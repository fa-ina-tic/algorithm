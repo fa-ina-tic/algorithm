{
 "cells": [
  {
   "attachments": {},
   "cell_type": "markdown",
   "metadata": {},
   "source": [
    "# 알고리즘 설계 파라다임\n",
    "## 1. 무식하게 풀기"
   ]
  },
  {
   "cell_type": "code",
   "execution_count": 29,
   "metadata": {},
   "outputs": [],
   "source": [
    "## 재귀함수 활용\n",
    "### 1. 자연수 n이 주어졌을 때 1부터 n까지의 합을 반환\n",
    "def recursive_sum(n: int) -> int:\n",
    "    if n == 1: # 기저사례 : n이 1이 되면 재귀 호출을 진행하지 않고 멈춘다.\n",
    "        return 1\n",
    "    else:\n",
    "        return n + recursive_sum(n-1)\n",
    "\n",
    "### 2. 중첩 반복문 대체 : 0부터 차례대로 번호가 매겨진 n개의 원소 중 네 개를 고르는 모든 경우의 수\n",
    "def recursive_pick(n: int, to_pick: int, picked: list=[]) -> int:\n",
    "\n",
    "    if to_pick == 0:\n",
    "        print(picked)\n",
    "        return\n",
    "\n",
    "    smallest = 0 if not picked else picked[-1]+1\n",
    "\n",
    "    for i in range(smallest, n):\n",
    "        picked.append(i)\n",
    "        recursive_pick(n, to_pick -1, picked)\n",
    "        picked.pop()\n",
    "\n",
    "### 3. 보글 게임\n",
    "board = [['a', 'b', 'c'], ['a', 'a', 'a'], ['b', 'c', 'a']]\n",
    "x_move = [-1, 0, 1, -1, 1, -1, 0, 1]\n",
    "y_move = [1, 1, 1, 0, 0, -1, -1, -1]\n",
    "\n",
    "def boggle(x: int, y: int, word: str) -> bool:\n",
    "    '''\n",
    "    x = 시작 x 좌표\n",
    "    y = 시작 y 좌표\n",
    "    word = 탐색 문자열 -> 재귀함수 사용해 필요\n",
    "    '''\n",
    "    ### 기저사례 우선 정의\n",
    "    # 시작점이 좌표를 벗어나면 false를 때림\n",
    "    if (x not in range(0, 3) or y not in range(0, 3)):\n",
    "        return False\n",
    "    # 첫 글자가 안맞으면 false를 때림\n",
    "    if board[x][y] != word[0]:\n",
    "        return False\n",
    "    # 글자가 한글자면 true를 때림\n",
    "    if len(word) == 1:\n",
    "        return True\n",
    "    \n",
    "    for i in range(0, 8):\n",
    "        x = x + x_move[i]\n",
    "        y = y + y_move[i]\n",
    "        if boggle(x, y, word[1:]):\n",
    "            return True\n",
    "    \n",
    "    return False\n",
    "\n",
    "### 4. 소풍\n",
    "# input 1 케이스 수\n",
    "# input 2 명수, 친구쌍수\n",
    "# input 3 친구쌍수\n",
    "\n",
    "def get_couple(n: int, couple:list = []) -> list:\n",
    "    ## type exception & odd number\n",
    "    if type(n) != int:\n",
    "        return ValueError(\"number of people should be int\")\n",
    "    if n%2 == 1:\n",
    "        raise ValueError(\"number of people should be even\")\n",
    "    \n",
    "    smallest = 0 if"
   ]
  },
  {
   "cell_type": "code",
   "execution_count": null,
   "metadata": {},
   "outputs": [],
   "source": []
  },
  {
   "cell_type": "code",
   "execution_count": 31,
   "metadata": {},
   "outputs": [
    {
     "data": {
      "text/plain": [
       "False"
      ]
     },
     "execution_count": 31,
     "metadata": {},
     "output_type": "execute_result"
    }
   ],
   "source": [
    "board = [['a', 'b', 'c'], ['a', 'a', 'a'], ['b', 'c', 'a']]\n",
    "\n",
    "boggle(1, 1, 'ad')"
   ]
  },
  {
   "cell_type": "code",
   "execution_count": 28,
   "metadata": {},
   "outputs": [
    {
     "data": {
      "text/plain": [
       "'a'"
      ]
     },
     "execution_count": 28,
     "metadata": {},
     "output_type": "execute_result"
    }
   ],
   "source": [
    "board[1][1]"
   ]
  },
  {
   "cell_type": "code",
   "execution_count": 22,
   "metadata": {},
   "outputs": [
    {
     "name": "stdout",
     "output_type": "stream",
     "text": [
      "[0, 1, 2, 3, 4, 5, 6]\n",
      "[0, 1, 2, 3, 4, 5, 7]\n",
      "[0, 1, 2, 3, 4, 6, 7]\n",
      "[0, 1, 2, 3, 5, 6, 7]\n",
      "[0, 1, 2, 4, 5, 6, 7]\n",
      "[0, 1, 3, 4, 5, 6, 7]\n",
      "[0, 2, 3, 4, 5, 6, 7]\n",
      "[1, 2, 3, 4, 5, 6, 7]\n"
     ]
    }
   ],
   "source": [
    "recursive_pick(8, 7)"
   ]
  },
  {
   "cell_type": "code",
   "execution_count": 17,
   "metadata": {},
   "outputs": [
    {
     "data": {
      "text/plain": [
       "2"
      ]
     },
     "execution_count": 17,
     "metadata": {},
     "output_type": "execute_result"
    }
   ],
   "source": [
    "a = [1, 2]\n",
    "a.pop()"
   ]
  },
  {
   "cell_type": "code",
   "execution_count": null,
   "metadata": {},
   "outputs": [],
   "source": [
    "inRange"
   ]
  },
  {
   "cell_type": "code",
   "execution_count": 24,
   "metadata": {},
   "outputs": [
    {
     "data": {
      "text/plain": [
       "False"
      ]
     },
     "execution_count": 24,
     "metadata": {},
     "output_type": "execute_result"
    }
   ],
   "source": [
    "True if 1 not in range(0, 5) else False"
   ]
  },
  {
   "cell_type": "code",
   "execution_count": null,
   "metadata": {},
   "outputs": [],
   "source": []
  }
 ],
 "metadata": {
  "kernelspec": {
   "display_name": "base",
   "language": "python",
   "name": "python3"
  },
  "language_info": {
   "codemirror_mode": {
    "name": "ipython",
    "version": 3
   },
   "file_extension": ".py",
   "mimetype": "text/x-python",
   "name": "python",
   "nbconvert_exporter": "python",
   "pygments_lexer": "ipython3",
   "version": "3.9.13"
  },
  "orig_nbformat": 4
 },
 "nbformat": 4,
 "nbformat_minor": 2
}
